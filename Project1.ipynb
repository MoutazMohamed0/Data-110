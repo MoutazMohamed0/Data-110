{
  "nbformat": 4,
  "nbformat_minor": 0,
  "metadata": {
    "colab": {
      "provenance": [],
      "authorship_tag": "ABX9TyMFUibHTRgUS/O3vCY0YSeT",
      "include_colab_link": true
    },
    "kernelspec": {
      "name": "python3",
      "display_name": "Python 3"
    },
    "language_info": {
      "name": "python"
    }
  },
  "cells": [
    {
      "cell_type": "markdown",
      "metadata": {
        "id": "view-in-github",
        "colab_type": "text"
      },
      "source": [
        "<a href=\"https://colab.research.google.com/github/MoutazMohamed0/Data-110/blob/main/Project1.ipynb\" target=\"_parent\"><img src=\"https://colab.research.google.com/assets/colab-badge.svg\" alt=\"Open In Colab\"/></a>"
      ]
    },
    {
      "cell_type": "markdown",
      "source": [
        "The dataset that I'm analyzing is from Basketball Reference, a subsidiary of Sports Reference, a sports statistics and analytics company that creates and maintains databases of several amateur and professional sports leagues. Sports Reference maintains databases of the big four sports leagues, the NBA (Basketball Reference), the NFL (Football Reference), the NHL (Hockey Reference), and the MLB (Baseball Reference) as well as various college sports. Sports Reference's creation along with the use of statistics in professional sports (while not new) has seen a major increase in the last decade, and given rise to the field of sports analytics. Sports analytics is a marriage of both statistical analysis and sports in a way which allows teams to obtain insight into how to improve their roster or adjust their team's shot diet (the amount and type of shots a specific player or team takes). My goal with this project is to obtain insight into what type of shots are being taken by specific players and position groups, evaluate the frequency and efficiency of their shots, and analyze player's offensive and defensive impact on games while applying the data visualization techniques that we learned in class. This dataset contains 30 variables, age (a player's age during the 2023 season), Team (the team that the player played for), Pos (position the player plays), G (number of games played), GS (number of games started), MP (minutes played per game), FG (number of field goals scored), FGA (total number of field goals taken), FG% (FG/FGA), 3P (number of field goals behind the 3 point line scored), 3PA (total number of field goals attempted behind the 3 point line), 3P% (3P/3PA), 2P (number of field goals not behind the 3 point line scored), 2PA (number of field goals attempted not behind the 3 point line), 2P% (2P/2PA), eFG% (effective field goal percentage, a measure of efficiency that adjusts FG% for the value of 3 point shots), FT (number of free throws (foul shots) scored), FTA (number of free throws (foul shots) attempted), FT% (FT/FTA), ORB (rebounds obtained after a teammate attempts a shot per game), DRB (rebounds obtained after an opponent attempts a shot per game), TRB (ORB+DRB), AST (assists per game), STL (steals per game), BLK (blocks per game), TOV (turnovers per game), PF (personal fouls per game), PTS (points per game) Ortg (Offensive Rating (a higher number means your are more efficient offensively)), DRtg (Defensive Rating (a lower number means your are more efficient defensively)). For this project I will focus mainly on the measures of shots taken (2P, 3P, FT), and Offensive Rating and Defensive Rating."
      ],
      "metadata": {
        "id": "Ns-7Gqe8Bu0l"
      }
    },
    {
      "cell_type": "code",
      "execution_count": 1,
      "metadata": {
        "colab": {
          "base_uri": "https://localhost:8080/"
        },
        "collapsed": true,
        "id": "t--LE17oWLE7",
        "outputId": "7c4102a6-9da0-4c01-e2f9-8f80ae69b458"
      },
      "outputs": [
        {
          "output_type": "stream",
          "name": "stdout",
          "text": [
            "Requirement already satisfied: rpy2 in /usr/local/lib/python3.11/dist-packages (3.5.17)\n",
            "Requirement already satisfied: cffi>=1.15.1 in /usr/local/lib/python3.11/dist-packages (from rpy2) (1.17.1)\n",
            "Requirement already satisfied: jinja2 in /usr/local/lib/python3.11/dist-packages (from rpy2) (3.1.6)\n",
            "Requirement already satisfied: tzlocal in /usr/local/lib/python3.11/dist-packages (from rpy2) (5.3.1)\n",
            "Requirement already satisfied: pycparser in /usr/local/lib/python3.11/dist-packages (from cffi>=1.15.1->rpy2) (2.22)\n",
            "Requirement already satisfied: MarkupSafe>=2.0 in /usr/local/lib/python3.11/dist-packages (from jinja2->rpy2) (3.0.2)\n",
            "Collecting joypy\n",
            "  Downloading joypy-0.2.6-py2.py3-none-any.whl.metadata (812 bytes)\n",
            "Requirement already satisfied: numpy>=1.16.5 in /usr/local/lib/python3.11/dist-packages (from joypy) (2.0.2)\n",
            "Requirement already satisfied: scipy>=0.11.0 in /usr/local/lib/python3.11/dist-packages (from joypy) (1.14.1)\n",
            "Requirement already satisfied: pandas>=0.20.0 in /usr/local/lib/python3.11/dist-packages (from joypy) (2.2.2)\n",
            "Requirement already satisfied: matplotlib in /usr/local/lib/python3.11/dist-packages (from joypy) (3.10.0)\n",
            "Requirement already satisfied: python-dateutil>=2.8.2 in /usr/local/lib/python3.11/dist-packages (from pandas>=0.20.0->joypy) (2.8.2)\n",
            "Requirement already satisfied: pytz>=2020.1 in /usr/local/lib/python3.11/dist-packages (from pandas>=0.20.0->joypy) (2025.2)\n",
            "Requirement already satisfied: tzdata>=2022.7 in /usr/local/lib/python3.11/dist-packages (from pandas>=0.20.0->joypy) (2025.2)\n",
            "Requirement already satisfied: contourpy>=1.0.1 in /usr/local/lib/python3.11/dist-packages (from matplotlib->joypy) (1.3.1)\n",
            "Requirement already satisfied: cycler>=0.10 in /usr/local/lib/python3.11/dist-packages (from matplotlib->joypy) (0.12.1)\n",
            "Requirement already satisfied: fonttools>=4.22.0 in /usr/local/lib/python3.11/dist-packages (from matplotlib->joypy) (4.56.0)\n",
            "Requirement already satisfied: kiwisolver>=1.3.1 in /usr/local/lib/python3.11/dist-packages (from matplotlib->joypy) (1.4.8)\n",
            "Requirement already satisfied: packaging>=20.0 in /usr/local/lib/python3.11/dist-packages (from matplotlib->joypy) (24.2)\n",
            "Requirement already satisfied: pillow>=8 in /usr/local/lib/python3.11/dist-packages (from matplotlib->joypy) (11.1.0)\n",
            "Requirement already satisfied: pyparsing>=2.3.1 in /usr/local/lib/python3.11/dist-packages (from matplotlib->joypy) (3.2.3)\n",
            "Requirement already satisfied: six>=1.5 in /usr/local/lib/python3.11/dist-packages (from python-dateutil>=2.8.2->pandas>=0.20.0->joypy) (1.17.0)\n",
            "Downloading joypy-0.2.6-py2.py3-none-any.whl (8.6 kB)\n",
            "Installing collected packages: joypy\n",
            "Successfully installed joypy-0.2.6\n"
          ]
        }
      ],
      "source": [
        "!pip install rpy2\n",
        "!pip install joypy"
      ]
    },
    {
      "cell_type": "code",
      "source": [
        "import pandas as pd\n",
        "import seaborn as sns\n",
        "import matplotlib.pyplot as plt\n",
        "import numpy as np\n",
        "from joypy import joyplot"
      ],
      "metadata": {
        "id": "q_pIXDMqWQ09"
      },
      "execution_count": 2,
      "outputs": []
    },
    {
      "cell_type": "code",
      "source": [
        "nba=pd.read_csv(\"https://raw.githubusercontent.com/MoutazMohamed0/Data-110/refs/heads/main/Project%201/nba-player-stats-2023.csv\")"
      ],
      "metadata": {
        "id": "SJ5Fk82ZWfj9"
      },
      "execution_count": 3,
      "outputs": []
    },
    {
      "cell_type": "code",
      "source": [
        "print(nba.head())"
      ],
      "metadata": {
        "colab": {
          "base_uri": "https://localhost:8080/"
        },
        "collapsed": true,
        "id": "TsGrELypWfgC",
        "outputId": "00d8c1f0-d190-41fc-9f55-346275b3504b"
      },
      "execution_count": null,
      "outputs": [
        {
          "output_type": "stream",
          "name": "stdout",
          "text": [
            "                    Player  Age Team Pos   G  GS    MP    FG   FGA    FG%  \\\n",
            "0              Joel Embiid   29  PHI   C  39  39  33.6  11.5  21.8  0.529   \n",
            "1              Luka Don?i?   24  DAL  PG  70  70  37.5  11.5  23.6  0.487   \n",
            "2    Giannis Antetokounmpo   29  MIL  PF  73  73  35.2  11.5  18.8  0.611   \n",
            "3  Shai Gilgeous-Alexander   25  OKC  PG  75  75  34.0  10.6  19.8  0.535   \n",
            "4            Jalen Brunson   27  NYK  PG  77  77  35.4  10.3  21.4  0.479   \n",
            "\n",
            "   ...  DRB   TRB  AST  STL  BLK  TOV   PF   PTS  Ortg  DRtg  \n",
            "0  ...  8.6  11.0  5.6  1.2  1.7  3.8  2.9  34.7   124   109  \n",
            "1  ...  8.4   9.2  9.8  1.4  0.5  4.0  2.1  33.9   122   113  \n",
            "2  ...  8.8  11.5  6.5  1.2  1.1  3.4  2.9  30.4   126   112  \n",
            "3  ...  4.7   5.5  6.2  2.0  0.9  2.2  2.5  30.1   129   110  \n",
            "4  ...  3.1   3.6  6.7  0.9  0.2  2.4  1.9  28.7   124   117  \n",
            "\n",
            "[5 rows x 31 columns]\n"
          ]
        }
      ]
    },
    {
      "cell_type": "code",
      "source": [
        "nba.info()"
      ],
      "metadata": {
        "colab": {
          "base_uri": "https://localhost:8080/"
        },
        "collapsed": true,
        "id": "mqG0T4DcY56D",
        "outputId": "53f837ca-2a65-43b0-abb9-b68ec8c8feb4"
      },
      "execution_count": null,
      "outputs": [
        {
          "output_type": "stream",
          "name": "stdout",
          "text": [
            "<class 'pandas.core.frame.DataFrame'>\n",
            "RangeIndex: 735 entries, 0 to 734\n",
            "Data columns (total 31 columns):\n",
            " #   Column  Non-Null Count  Dtype  \n",
            "---  ------  --------------  -----  \n",
            " 0   Player  735 non-null    object \n",
            " 1   Age     735 non-null    int64  \n",
            " 2   Team    735 non-null    object \n",
            " 3   Pos     735 non-null    object \n",
            " 4   G       735 non-null    int64  \n",
            " 5   GS      735 non-null    int64  \n",
            " 6   MP      735 non-null    float64\n",
            " 7   FG      735 non-null    float64\n",
            " 8   FGA     735 non-null    float64\n",
            " 9   FG%     727 non-null    float64\n",
            " 10  3P      735 non-null    float64\n",
            " 11  3PA     735 non-null    float64\n",
            " 12  3P%     689 non-null    float64\n",
            " 13  2P      735 non-null    float64\n",
            " 14  2PA     735 non-null    float64\n",
            " 15  2P%     722 non-null    float64\n",
            " 16  eFG%    727 non-null    float64\n",
            " 17  FT      735 non-null    float64\n",
            " 18  FTA     735 non-null    float64\n",
            " 19  FT%     676 non-null    float64\n",
            " 20  ORB     735 non-null    float64\n",
            " 21  DRB     735 non-null    float64\n",
            " 22  TRB     735 non-null    float64\n",
            " 23  AST     735 non-null    float64\n",
            " 24  STL     735 non-null    float64\n",
            " 25  BLK     735 non-null    float64\n",
            " 26  TOV     735 non-null    float64\n",
            " 27  PF      735 non-null    float64\n",
            " 28  PTS     735 non-null    float64\n",
            " 29  Ortg    735 non-null    int64  \n",
            " 30  DRtg    735 non-null    int64  \n",
            "dtypes: float64(23), int64(5), object(3)\n",
            "memory usage: 178.1+ KB\n"
          ]
        }
      ]
    },
    {
      "cell_type": "code",
      "source": [
        "nba.describe()"
      ],
      "metadata": {
        "colab": {
          "base_uri": "https://localhost:8080/",
          "height": 349
        },
        "collapsed": true,
        "id": "gwoYGF6DY-bm",
        "outputId": "4e3e0fdb-d150-4286-97dc-df348d864235"
      },
      "execution_count": null,
      "outputs": [
        {
          "output_type": "execute_result",
          "data": {
            "text/plain": [
              "              Age           G          GS          MP          FG         FGA  \\\n",
              "count  735.000000  735.000000  735.000000  735.000000  735.000000  735.000000   \n",
              "mean    26.155102   40.880272   18.440816   18.264762    2.972789    6.423401   \n",
              "std      4.371745   25.581293   25.024108    9.735524    2.356999    4.783384   \n",
              "min     19.000000    1.000000    0.000000    0.500000    0.000000    0.000000   \n",
              "25%     23.000000   17.000000    0.000000   10.600000    1.300000    3.000000   \n",
              "50%     25.000000   41.000000    5.000000   17.200000    2.300000    5.000000   \n",
              "75%     29.000000   64.500000   29.000000   26.450000    4.150000    8.700000   \n",
              "max     39.000000   84.000000   82.000000   37.800000   11.500000   23.600000   \n",
              "\n",
              "              FG%          3P         3PA         3P%  ...         DRB  \\\n",
              "count  727.000000  735.000000  735.000000  689.000000  ...  735.000000   \n",
              "mean     0.447558    0.909116    2.582449    0.316925  ...    2.423265   \n",
              "std      0.110701    0.848969    2.166629    0.137217  ...    1.741203   \n",
              "min      0.000000    0.000000    0.000000    0.000000  ...    0.000000   \n",
              "25%      0.400000    0.200000    0.900000    0.280000  ...    1.100000   \n",
              "50%      0.446000    0.700000    2.100000    0.346000  ...    2.100000   \n",
              "75%      0.500000    1.400000    3.700000    0.385000  ...    3.350000   \n",
              "max      0.800000    4.800000   11.800000    1.000000  ...   10.100000   \n",
              "\n",
              "              TRB         AST         STL         BLK         TOV          PF  \\\n",
              "count  735.000000  735.000000  735.000000  735.000000  735.000000  735.000000   \n",
              "mean     3.239184    1.934150    0.587347    0.383946    0.943946    1.456735   \n",
              "std      2.320766    1.800255    0.393774    0.400733    0.758414    0.784284   \n",
              "min      0.000000    0.000000    0.000000    0.000000    0.000000    0.000000   \n",
              "25%      1.600000    0.700000    0.300000    0.100000    0.400000    0.900000   \n",
              "50%      2.800000    1.300000    0.500000    0.300000    0.700000    1.400000   \n",
              "75%      4.300000    2.600000    0.800000    0.500000    1.300000    2.000000   \n",
              "max     13.700000   10.900000    2.100000    3.600000    4.400000    3.600000   \n",
              "\n",
              "              PTS        Ortg        DRtg  \n",
              "count  735.000000  735.000000  735.000000  \n",
              "mean     8.022313  111.440816  115.813605  \n",
              "std      6.481825   19.067826    4.162153  \n",
              "min      0.000000    0.000000   86.000000  \n",
              "25%      3.400000  105.000000  113.000000  \n",
              "50%      6.100000  113.000000  116.000000  \n",
              "75%     11.050000  121.000000  119.000000  \n",
              "max     34.700000  227.000000  127.000000  \n",
              "\n",
              "[8 rows x 28 columns]"
            ],
            "text/html": [
              "\n",
              "  <div id=\"df-d6468994-7c79-4df9-82d0-e1bd06729fae\" class=\"colab-df-container\">\n",
              "    <div>\n",
              "<style scoped>\n",
              "    .dataframe tbody tr th:only-of-type {\n",
              "        vertical-align: middle;\n",
              "    }\n",
              "\n",
              "    .dataframe tbody tr th {\n",
              "        vertical-align: top;\n",
              "    }\n",
              "\n",
              "    .dataframe thead th {\n",
              "        text-align: right;\n",
              "    }\n",
              "</style>\n",
              "<table border=\"1\" class=\"dataframe\">\n",
              "  <thead>\n",
              "    <tr style=\"text-align: right;\">\n",
              "      <th></th>\n",
              "      <th>Age</th>\n",
              "      <th>G</th>\n",
              "      <th>GS</th>\n",
              "      <th>MP</th>\n",
              "      <th>FG</th>\n",
              "      <th>FGA</th>\n",
              "      <th>FG%</th>\n",
              "      <th>3P</th>\n",
              "      <th>3PA</th>\n",
              "      <th>3P%</th>\n",
              "      <th>...</th>\n",
              "      <th>DRB</th>\n",
              "      <th>TRB</th>\n",
              "      <th>AST</th>\n",
              "      <th>STL</th>\n",
              "      <th>BLK</th>\n",
              "      <th>TOV</th>\n",
              "      <th>PF</th>\n",
              "      <th>PTS</th>\n",
              "      <th>Ortg</th>\n",
              "      <th>DRtg</th>\n",
              "    </tr>\n",
              "  </thead>\n",
              "  <tbody>\n",
              "    <tr>\n",
              "      <th>count</th>\n",
              "      <td>735.000000</td>\n",
              "      <td>735.000000</td>\n",
              "      <td>735.000000</td>\n",
              "      <td>735.000000</td>\n",
              "      <td>735.000000</td>\n",
              "      <td>735.000000</td>\n",
              "      <td>727.000000</td>\n",
              "      <td>735.000000</td>\n",
              "      <td>735.000000</td>\n",
              "      <td>689.000000</td>\n",
              "      <td>...</td>\n",
              "      <td>735.000000</td>\n",
              "      <td>735.000000</td>\n",
              "      <td>735.000000</td>\n",
              "      <td>735.000000</td>\n",
              "      <td>735.000000</td>\n",
              "      <td>735.000000</td>\n",
              "      <td>735.000000</td>\n",
              "      <td>735.000000</td>\n",
              "      <td>735.000000</td>\n",
              "      <td>735.000000</td>\n",
              "    </tr>\n",
              "    <tr>\n",
              "      <th>mean</th>\n",
              "      <td>26.155102</td>\n",
              "      <td>40.880272</td>\n",
              "      <td>18.440816</td>\n",
              "      <td>18.264762</td>\n",
              "      <td>2.972789</td>\n",
              "      <td>6.423401</td>\n",
              "      <td>0.447558</td>\n",
              "      <td>0.909116</td>\n",
              "      <td>2.582449</td>\n",
              "      <td>0.316925</td>\n",
              "      <td>...</td>\n",
              "      <td>2.423265</td>\n",
              "      <td>3.239184</td>\n",
              "      <td>1.934150</td>\n",
              "      <td>0.587347</td>\n",
              "      <td>0.383946</td>\n",
              "      <td>0.943946</td>\n",
              "      <td>1.456735</td>\n",
              "      <td>8.022313</td>\n",
              "      <td>111.440816</td>\n",
              "      <td>115.813605</td>\n",
              "    </tr>\n",
              "    <tr>\n",
              "      <th>std</th>\n",
              "      <td>4.371745</td>\n",
              "      <td>25.581293</td>\n",
              "      <td>25.024108</td>\n",
              "      <td>9.735524</td>\n",
              "      <td>2.356999</td>\n",
              "      <td>4.783384</td>\n",
              "      <td>0.110701</td>\n",
              "      <td>0.848969</td>\n",
              "      <td>2.166629</td>\n",
              "      <td>0.137217</td>\n",
              "      <td>...</td>\n",
              "      <td>1.741203</td>\n",
              "      <td>2.320766</td>\n",
              "      <td>1.800255</td>\n",
              "      <td>0.393774</td>\n",
              "      <td>0.400733</td>\n",
              "      <td>0.758414</td>\n",
              "      <td>0.784284</td>\n",
              "      <td>6.481825</td>\n",
              "      <td>19.067826</td>\n",
              "      <td>4.162153</td>\n",
              "    </tr>\n",
              "    <tr>\n",
              "      <th>min</th>\n",
              "      <td>19.000000</td>\n",
              "      <td>1.000000</td>\n",
              "      <td>0.000000</td>\n",
              "      <td>0.500000</td>\n",
              "      <td>0.000000</td>\n",
              "      <td>0.000000</td>\n",
              "      <td>0.000000</td>\n",
              "      <td>0.000000</td>\n",
              "      <td>0.000000</td>\n",
              "      <td>0.000000</td>\n",
              "      <td>...</td>\n",
              "      <td>0.000000</td>\n",
              "      <td>0.000000</td>\n",
              "      <td>0.000000</td>\n",
              "      <td>0.000000</td>\n",
              "      <td>0.000000</td>\n",
              "      <td>0.000000</td>\n",
              "      <td>0.000000</td>\n",
              "      <td>0.000000</td>\n",
              "      <td>0.000000</td>\n",
              "      <td>86.000000</td>\n",
              "    </tr>\n",
              "    <tr>\n",
              "      <th>25%</th>\n",
              "      <td>23.000000</td>\n",
              "      <td>17.000000</td>\n",
              "      <td>0.000000</td>\n",
              "      <td>10.600000</td>\n",
              "      <td>1.300000</td>\n",
              "      <td>3.000000</td>\n",
              "      <td>0.400000</td>\n",
              "      <td>0.200000</td>\n",
              "      <td>0.900000</td>\n",
              "      <td>0.280000</td>\n",
              "      <td>...</td>\n",
              "      <td>1.100000</td>\n",
              "      <td>1.600000</td>\n",
              "      <td>0.700000</td>\n",
              "      <td>0.300000</td>\n",
              "      <td>0.100000</td>\n",
              "      <td>0.400000</td>\n",
              "      <td>0.900000</td>\n",
              "      <td>3.400000</td>\n",
              "      <td>105.000000</td>\n",
              "      <td>113.000000</td>\n",
              "    </tr>\n",
              "    <tr>\n",
              "      <th>50%</th>\n",
              "      <td>25.000000</td>\n",
              "      <td>41.000000</td>\n",
              "      <td>5.000000</td>\n",
              "      <td>17.200000</td>\n",
              "      <td>2.300000</td>\n",
              "      <td>5.000000</td>\n",
              "      <td>0.446000</td>\n",
              "      <td>0.700000</td>\n",
              "      <td>2.100000</td>\n",
              "      <td>0.346000</td>\n",
              "      <td>...</td>\n",
              "      <td>2.100000</td>\n",
              "      <td>2.800000</td>\n",
              "      <td>1.300000</td>\n",
              "      <td>0.500000</td>\n",
              "      <td>0.300000</td>\n",
              "      <td>0.700000</td>\n",
              "      <td>1.400000</td>\n",
              "      <td>6.100000</td>\n",
              "      <td>113.000000</td>\n",
              "      <td>116.000000</td>\n",
              "    </tr>\n",
              "    <tr>\n",
              "      <th>75%</th>\n",
              "      <td>29.000000</td>\n",
              "      <td>64.500000</td>\n",
              "      <td>29.000000</td>\n",
              "      <td>26.450000</td>\n",
              "      <td>4.150000</td>\n",
              "      <td>8.700000</td>\n",
              "      <td>0.500000</td>\n",
              "      <td>1.400000</td>\n",
              "      <td>3.700000</td>\n",
              "      <td>0.385000</td>\n",
              "      <td>...</td>\n",
              "      <td>3.350000</td>\n",
              "      <td>4.300000</td>\n",
              "      <td>2.600000</td>\n",
              "      <td>0.800000</td>\n",
              "      <td>0.500000</td>\n",
              "      <td>1.300000</td>\n",
              "      <td>2.000000</td>\n",
              "      <td>11.050000</td>\n",
              "      <td>121.000000</td>\n",
              "      <td>119.000000</td>\n",
              "    </tr>\n",
              "    <tr>\n",
              "      <th>max</th>\n",
              "      <td>39.000000</td>\n",
              "      <td>84.000000</td>\n",
              "      <td>82.000000</td>\n",
              "      <td>37.800000</td>\n",
              "      <td>11.500000</td>\n",
              "      <td>23.600000</td>\n",
              "      <td>0.800000</td>\n",
              "      <td>4.800000</td>\n",
              "      <td>11.800000</td>\n",
              "      <td>1.000000</td>\n",
              "      <td>...</td>\n",
              "      <td>10.100000</td>\n",
              "      <td>13.700000</td>\n",
              "      <td>10.900000</td>\n",
              "      <td>2.100000</td>\n",
              "      <td>3.600000</td>\n",
              "      <td>4.400000</td>\n",
              "      <td>3.600000</td>\n",
              "      <td>34.700000</td>\n",
              "      <td>227.000000</td>\n",
              "      <td>127.000000</td>\n",
              "    </tr>\n",
              "  </tbody>\n",
              "</table>\n",
              "<p>8 rows × 28 columns</p>\n",
              "</div>\n",
              "    <div class=\"colab-df-buttons\">\n",
              "\n",
              "  <div class=\"colab-df-container\">\n",
              "    <button class=\"colab-df-convert\" onclick=\"convertToInteractive('df-d6468994-7c79-4df9-82d0-e1bd06729fae')\"\n",
              "            title=\"Convert this dataframe to an interactive table.\"\n",
              "            style=\"display:none;\">\n",
              "\n",
              "  <svg xmlns=\"http://www.w3.org/2000/svg\" height=\"24px\" viewBox=\"0 -960 960 960\">\n",
              "    <path d=\"M120-120v-720h720v720H120Zm60-500h600v-160H180v160Zm220 220h160v-160H400v160Zm0 220h160v-160H400v160ZM180-400h160v-160H180v160Zm440 0h160v-160H620v160ZM180-180h160v-160H180v160Zm440 0h160v-160H620v160Z\"/>\n",
              "  </svg>\n",
              "    </button>\n",
              "\n",
              "  <style>\n",
              "    .colab-df-container {\n",
              "      display:flex;\n",
              "      gap: 12px;\n",
              "    }\n",
              "\n",
              "    .colab-df-convert {\n",
              "      background-color: #E8F0FE;\n",
              "      border: none;\n",
              "      border-radius: 50%;\n",
              "      cursor: pointer;\n",
              "      display: none;\n",
              "      fill: #1967D2;\n",
              "      height: 32px;\n",
              "      padding: 0 0 0 0;\n",
              "      width: 32px;\n",
              "    }\n",
              "\n",
              "    .colab-df-convert:hover {\n",
              "      background-color: #E2EBFA;\n",
              "      box-shadow: 0px 1px 2px rgba(60, 64, 67, 0.3), 0px 1px 3px 1px rgba(60, 64, 67, 0.15);\n",
              "      fill: #174EA6;\n",
              "    }\n",
              "\n",
              "    .colab-df-buttons div {\n",
              "      margin-bottom: 4px;\n",
              "    }\n",
              "\n",
              "    [theme=dark] .colab-df-convert {\n",
              "      background-color: #3B4455;\n",
              "      fill: #D2E3FC;\n",
              "    }\n",
              "\n",
              "    [theme=dark] .colab-df-convert:hover {\n",
              "      background-color: #434B5C;\n",
              "      box-shadow: 0px 1px 3px 1px rgba(0, 0, 0, 0.15);\n",
              "      filter: drop-shadow(0px 1px 2px rgba(0, 0, 0, 0.3));\n",
              "      fill: #FFFFFF;\n",
              "    }\n",
              "  </style>\n",
              "\n",
              "    <script>\n",
              "      const buttonEl =\n",
              "        document.querySelector('#df-d6468994-7c79-4df9-82d0-e1bd06729fae button.colab-df-convert');\n",
              "      buttonEl.style.display =\n",
              "        google.colab.kernel.accessAllowed ? 'block' : 'none';\n",
              "\n",
              "      async function convertToInteractive(key) {\n",
              "        const element = document.querySelector('#df-d6468994-7c79-4df9-82d0-e1bd06729fae');\n",
              "        const dataTable =\n",
              "          await google.colab.kernel.invokeFunction('convertToInteractive',\n",
              "                                                    [key], {});\n",
              "        if (!dataTable) return;\n",
              "\n",
              "        const docLinkHtml = 'Like what you see? Visit the ' +\n",
              "          '<a target=\"_blank\" href=https://colab.research.google.com/notebooks/data_table.ipynb>data table notebook</a>'\n",
              "          + ' to learn more about interactive tables.';\n",
              "        element.innerHTML = '';\n",
              "        dataTable['output_type'] = 'display_data';\n",
              "        await google.colab.output.renderOutput(dataTable, element);\n",
              "        const docLink = document.createElement('div');\n",
              "        docLink.innerHTML = docLinkHtml;\n",
              "        element.appendChild(docLink);\n",
              "      }\n",
              "    </script>\n",
              "  </div>\n",
              "\n",
              "\n",
              "<div id=\"df-4a81e5cd-f2f4-4a93-852d-ca272998784e\">\n",
              "  <button class=\"colab-df-quickchart\" onclick=\"quickchart('df-4a81e5cd-f2f4-4a93-852d-ca272998784e')\"\n",
              "            title=\"Suggest charts\"\n",
              "            style=\"display:none;\">\n",
              "\n",
              "<svg xmlns=\"http://www.w3.org/2000/svg\" height=\"24px\"viewBox=\"0 0 24 24\"\n",
              "     width=\"24px\">\n",
              "    <g>\n",
              "        <path d=\"M19 3H5c-1.1 0-2 .9-2 2v14c0 1.1.9 2 2 2h14c1.1 0 2-.9 2-2V5c0-1.1-.9-2-2-2zM9 17H7v-7h2v7zm4 0h-2V7h2v10zm4 0h-2v-4h2v4z\"/>\n",
              "    </g>\n",
              "</svg>\n",
              "  </button>\n",
              "\n",
              "<style>\n",
              "  .colab-df-quickchart {\n",
              "      --bg-color: #E8F0FE;\n",
              "      --fill-color: #1967D2;\n",
              "      --hover-bg-color: #E2EBFA;\n",
              "      --hover-fill-color: #174EA6;\n",
              "      --disabled-fill-color: #AAA;\n",
              "      --disabled-bg-color: #DDD;\n",
              "  }\n",
              "\n",
              "  [theme=dark] .colab-df-quickchart {\n",
              "      --bg-color: #3B4455;\n",
              "      --fill-color: #D2E3FC;\n",
              "      --hover-bg-color: #434B5C;\n",
              "      --hover-fill-color: #FFFFFF;\n",
              "      --disabled-bg-color: #3B4455;\n",
              "      --disabled-fill-color: #666;\n",
              "  }\n",
              "\n",
              "  .colab-df-quickchart {\n",
              "    background-color: var(--bg-color);\n",
              "    border: none;\n",
              "    border-radius: 50%;\n",
              "    cursor: pointer;\n",
              "    display: none;\n",
              "    fill: var(--fill-color);\n",
              "    height: 32px;\n",
              "    padding: 0;\n",
              "    width: 32px;\n",
              "  }\n",
              "\n",
              "  .colab-df-quickchart:hover {\n",
              "    background-color: var(--hover-bg-color);\n",
              "    box-shadow: 0 1px 2px rgba(60, 64, 67, 0.3), 0 1px 3px 1px rgba(60, 64, 67, 0.15);\n",
              "    fill: var(--button-hover-fill-color);\n",
              "  }\n",
              "\n",
              "  .colab-df-quickchart-complete:disabled,\n",
              "  .colab-df-quickchart-complete:disabled:hover {\n",
              "    background-color: var(--disabled-bg-color);\n",
              "    fill: var(--disabled-fill-color);\n",
              "    box-shadow: none;\n",
              "  }\n",
              "\n",
              "  .colab-df-spinner {\n",
              "    border: 2px solid var(--fill-color);\n",
              "    border-color: transparent;\n",
              "    border-bottom-color: var(--fill-color);\n",
              "    animation:\n",
              "      spin 1s steps(1) infinite;\n",
              "  }\n",
              "\n",
              "  @keyframes spin {\n",
              "    0% {\n",
              "      border-color: transparent;\n",
              "      border-bottom-color: var(--fill-color);\n",
              "      border-left-color: var(--fill-color);\n",
              "    }\n",
              "    20% {\n",
              "      border-color: transparent;\n",
              "      border-left-color: var(--fill-color);\n",
              "      border-top-color: var(--fill-color);\n",
              "    }\n",
              "    30% {\n",
              "      border-color: transparent;\n",
              "      border-left-color: var(--fill-color);\n",
              "      border-top-color: var(--fill-color);\n",
              "      border-right-color: var(--fill-color);\n",
              "    }\n",
              "    40% {\n",
              "      border-color: transparent;\n",
              "      border-right-color: var(--fill-color);\n",
              "      border-top-color: var(--fill-color);\n",
              "    }\n",
              "    60% {\n",
              "      border-color: transparent;\n",
              "      border-right-color: var(--fill-color);\n",
              "    }\n",
              "    80% {\n",
              "      border-color: transparent;\n",
              "      border-right-color: var(--fill-color);\n",
              "      border-bottom-color: var(--fill-color);\n",
              "    }\n",
              "    90% {\n",
              "      border-color: transparent;\n",
              "      border-bottom-color: var(--fill-color);\n",
              "    }\n",
              "  }\n",
              "</style>\n",
              "\n",
              "  <script>\n",
              "    async function quickchart(key) {\n",
              "      const quickchartButtonEl =\n",
              "        document.querySelector('#' + key + ' button');\n",
              "      quickchartButtonEl.disabled = true;  // To prevent multiple clicks.\n",
              "      quickchartButtonEl.classList.add('colab-df-spinner');\n",
              "      try {\n",
              "        const charts = await google.colab.kernel.invokeFunction(\n",
              "            'suggestCharts', [key], {});\n",
              "      } catch (error) {\n",
              "        console.error('Error during call to suggestCharts:', error);\n",
              "      }\n",
              "      quickchartButtonEl.classList.remove('colab-df-spinner');\n",
              "      quickchartButtonEl.classList.add('colab-df-quickchart-complete');\n",
              "    }\n",
              "    (() => {\n",
              "      let quickchartButtonEl =\n",
              "        document.querySelector('#df-4a81e5cd-f2f4-4a93-852d-ca272998784e button');\n",
              "      quickchartButtonEl.style.display =\n",
              "        google.colab.kernel.accessAllowed ? 'block' : 'none';\n",
              "    })();\n",
              "  </script>\n",
              "</div>\n",
              "\n",
              "    </div>\n",
              "  </div>\n"
            ],
            "application/vnd.google.colaboratory.intrinsic+json": {
              "type": "dataframe"
            }
          },
          "metadata": {},
          "execution_count": 6
        }
      ]
    },
    {
      "cell_type": "code",
      "source": [
        "nbap = nba[(nba['MP']>=10)]"
      ],
      "metadata": {
        "id": "g69O_z-NZtXA"
      },
      "execution_count": 4,
      "outputs": []
    },
    {
      "cell_type": "code",
      "source": [
        "nbaclean = nba[(nba['G']>=50) & (nba['MP']>=10)]"
      ],
      "metadata": {
        "id": "KsruahkNZq4C"
      },
      "execution_count": 5,
      "outputs": []
    },
    {
      "cell_type": "code",
      "source": [
        "nbaod = nba[(nba['G']>=50) & (nba['MP']>=30)]"
      ],
      "metadata": {
        "id": "nSzfSqFrdEnu"
      },
      "execution_count": 6,
      "outputs": []
    },
    {
      "cell_type": "code",
      "source": [
        "nbacount= nbap['Pos'].value_counts()"
      ],
      "metadata": {
        "id": "8ITtUh4yZHmV"
      },
      "execution_count": 7,
      "outputs": []
    },
    {
      "cell_type": "code",
      "source": [
        "x = ['Pos']\n",
        "y = nbacount\n",
        "plt.figure(figsize=(10, 6))\n",
        "colors = ['orangered', 'forestgreen', 'darkorange', 'cornflowerblue', 'darkviolet']\n",
        "plt.bar(nbacount.index, nbacount.values, color=colors)\n",
        "plt.title(\"2023 NBA Players by Position (Min. 10 MPG)\")\n",
        "plt.xlabel(\"Position\")\n",
        "plt.ylabel(\"Number of Players\")\n",
        "\n",
        "plt.show()"
      ],
      "metadata": {
        "colab": {
          "base_uri": "https://localhost:8080/",
          "height": 564
        },
        "id": "poxKI9-4ZNQO",
        "outputId": "be3621bb-a92e-4cca-a7e7-91f8be5bd439"
      },
      "execution_count": null,
      "outputs": [
        {
          "output_type": "display_data",
          "data": {
            "text/plain": [
              "<Figure size 1000x600 with 1 Axes>"
            ],
            "image/png": "[encoded data removed]"
          },
          "metadata": {}
        }
      ]
    },
    {
      "cell_type": "code",
      "source": [
        "TotalPlayers = nbap['Pos'].value_counts()\n",
        "print(TotalPlayers)"
      ],
      "metadata": {
        "colab": {
          "base_uri": "https://localhost:8080/"
        },
        "id": "_RFUrM9Aaevy",
        "outputId": "a4da35f5-efed-43db-d00f-55a8a1080b98"
      },
      "execution_count": null,
      "outputs": [
        {
          "output_type": "stream",
          "name": "stdout",
          "text": [
            "Pos\n",
            "SG    122\n",
            "SF    121\n",
            "PF    117\n",
            "PG    116\n",
            "C      92\n",
            "Name: count, dtype: int64\n"
          ]
        }
      ]
    },
    {
      "cell_type": "markdown",
      "source": [
        "This graph illustrates the number of players at each position who played a minimum of 10 minutes per game. There were 122 shooting guards, 121 small forwards, 117 power forwards, 116 point guards, and 92 centers that played at least 10 minutes per game in the 2023 season. This graph gives me insight into the positional breakdown of the players who played significant minutes."
      ],
      "metadata": {
        "id": "lIKYwEa5AmWo"
      }
    },
    {
      "cell_type": "code",
      "source": [
        "Top5_Points = nbaclean[['Player', 'PTS']].sort_values(by='PTS', ascending=False).head(5)\n",
        "print(Top5_Points)"
      ],
      "metadata": {
        "colab": {
          "base_uri": "https://localhost:8080/"
        },
        "id": "347y4DbHbkZW",
        "outputId": "f3e481eb-25ea-44ff-b96a-bca82f69cefa"
      },
      "execution_count": null,
      "outputs": [
        {
          "output_type": "stream",
          "name": "stdout",
          "text": [
            "                    Player   PTS\n",
            "1              Luka Don?i?  33.9\n",
            "2    Giannis Antetokounmpo  30.4\n",
            "3  Shai Gilgeous-Alexander  30.1\n",
            "4            Jalen Brunson  28.7\n",
            "6             Kevin Durant  27.1\n"
          ]
        }
      ]
    },
    {
      "cell_type": "code",
      "source": [
        "Top5_Rebounds = nbaclean[['Player', 'TRB']].sort_values(by='TRB', ascending=False).head(5)\n",
        "print(Top5_Rebounds)"
      ],
      "metadata": {
        "colab": {
          "base_uri": "https://localhost:8080/"
        },
        "id": "X40TBvATbsiC",
        "outputId": "3d4b3c22-8bd7-43a7-edfd-f7de32881365"
      },
      "execution_count": null,
      "outputs": [
        {
          "output_type": "stream",
          "name": "stdout",
          "text": [
            "               Player   TRB\n",
            "63   Domantas Sabonis  13.7\n",
            "119       Rudy Gobert  12.9\n",
            "18      Anthony Davis  12.6\n",
            "11       Nikola Joki?  12.4\n",
            "124       Jalen Duren  11.6\n"
          ]
        }
      ]
    },
    {
      "cell_type": "code",
      "source": [
        "Top5_Assists = nbaclean[['Player', 'AST']].sort_values(by='AST', ascending=False).head(5)\n",
        "print(Top5_Assists)"
      ],
      "metadata": {
        "colab": {
          "base_uri": "https://localhost:8080/"
        },
        "id": "pFeQXP22cBEr",
        "outputId": "36ce0d4f-f293-490b-f2e1-e2ff5b4ee689"
      },
      "execution_count": null,
      "outputs": [
        {
          "output_type": "stream",
          "name": "stdout",
          "text": [
            "               Player   AST\n",
            "51  Tyrese Haliburton  10.9\n",
            "15         Trae Young  10.8\n",
            "1         Luka Don?i?   9.8\n",
            "11       Nikola Joki?   9.0\n",
            "85       James Harden   8.5\n"
          ]
        }
      ]
    },
    {
      "cell_type": "code",
      "source": [
        "Top5_Steals = nbaclean[['Player', 'STL']].sort_values(by='STL', ascending=False).head(5)\n",
        "print(Top5_Steals)"
      ],
      "metadata": {
        "colab": {
          "base_uri": "https://localhost:8080/"
        },
        "id": "9wRgsoNacLr0",
        "outputId": "77e8a20d-ae20-43ab-9946-d258f6663e5f"
      },
      "execution_count": null,
      "outputs": [
        {
          "output_type": "stream",
          "name": "stdout",
          "text": [
            "                      Player  STL\n",
            "8               De'Aaron Fox  2.0\n",
            "3    Shai Gilgeous-Alexander  2.0\n",
            "9           Donovan Mitchell  1.8\n",
            "212              Alex Caruso  1.7\n",
            "411         Matisse Thybulle  1.7\n"
          ]
        }
      ]
    },
    {
      "cell_type": "code",
      "source": [
        "Top5_Blocks = nbaclean[['Player', 'BLK']].sort_values(by='BLK', ascending=False).head(5)\n",
        "print(Top5_Blocks)"
      ],
      "metadata": {
        "colab": {
          "base_uri": "https://localhost:8080/"
        },
        "id": "HkKzBvaFcUD3",
        "outputId": "aad48715-ca3f-4105-8964-fe9b82371c56"
      },
      "execution_count": null,
      "outputs": [
        {
          "output_type": "stream",
          "name": "stdout",
          "text": [
            "                Player  BLK\n",
            "40   Victor Wembanyama  3.6\n",
            "265     Walker Kessler  2.4\n",
            "145        Brook Lopez  2.4\n",
            "87       Chet Holmgren  2.3\n",
            "18       Anthony Davis  2.3\n"
          ]
        }
      ]
    },
    {
      "cell_type": "markdown",
      "source": [
        "These statistics give me insight into who leads the NBA in each per game statistical category."
      ],
      "metadata": {
        "id": "fQRjic8RJ7r5"
      }
    },
    {
      "cell_type": "code",
      "source": [
        "sns.boxplot(x='Pos', y='FGA', data=nbaclean, color='skyblue')\n",
        "plt.title(\"Field Goal Attempts per Game by Position (Min. 50 Games Played)\")\n",
        "plt.xlabel('Position')\n",
        "plt.ylabel('Field Goal Attempts (FGA)')\n",
        "plt.show()"
      ],
      "metadata": {
        "colab": {
          "base_uri": "https://localhost:8080/",
          "height": 472
        },
        "id": "jtqHkcGvccfg",
        "outputId": "d080d7f1-581e-4c2e-fc19-a0b73c271838"
      },
      "execution_count": null,
      "outputs": [
        {
          "output_type": "display_data",
          "data": {
            "text/plain": [
              "<Figure size 640x480 with 1 Axes>"
            ],
            "image/png": "[encoded data removed]"
          },
          "metadata": {}
        }
      ]
    },
    {
      "cell_type": "markdown",
      "source": [
        "This graph illustrates the number of field goals attempted broken down by positional group (PG, SG, SF, PF, and C) by players with a minimum of 50 games played. We can see that while centers take less field goal attempts on average, there are outliers that take a similar number of field goals to high volume players of other positional groups (Nikola Jokić, Jaren Jackson Jr., Anthony Davis, and Victor Wembanyama)."
      ],
      "metadata": {
        "id": "ZCwSokCaAsW_"
      }
    },
    {
      "cell_type": "code",
      "source": [
        "AttemptsByPosition = nbaclean.groupby('Pos')[['3PA', '2PA', 'FTA']].sum()"
      ],
      "metadata": {
        "id": "L8JQYSEw6ssW"
      },
      "execution_count": 8,
      "outputs": []
    },
    {
      "cell_type": "code",
      "source": [
        "bar_width = 0.2\n",
        "index = np.arange(len(AttemptsByPosition))\n",
        "\n",
        "plt.figure(figsize=(10, 8))\n",
        "\n",
        "plt.bar(index - bar_width, AttemptsByPosition['3PA'], bar_width, label='3PA', color='blue')\n",
        "plt.bar(index, AttemptsByPosition['2PA'], bar_width, label='2PA', color='red')\n",
        "plt.bar(index + bar_width, AttemptsByPosition['FTA'], bar_width, label='FTA', color='green')\n",
        "\n",
        "plt.xlabel('Position', fontsize=12)\n",
        "plt.ylabel('Number of Attempts', fontsize=12)\n",
        "plt.title = plt.gca().set_title\n",
        "plt.title(\"Total Shot Attempts by Type & Position (Min. 50 Games Played)\", fontsize=14)\n",
        "plt.xticks(index, AttemptsByPosition.index)\n",
        "\n",
        "\n",
        "plt.legend()\n",
        "\n",
        "plt.tight_layout()\n",
        "plt.show()"
      ],
      "metadata": {
        "colab": {
          "base_uri": "https://localhost:8080/",
          "height": 807
        },
        "id": "nSG9w_dCjn7I",
        "outputId": "fa742b0c-9ed6-4746-9a32-5cf60d5dfbe9"
      },
      "execution_count": 9,
      "outputs": [
        {
          "output_type": "display_data",
          "data": {
            "text/plain": [
              "<Figure size 1000x800 with 1 Axes>"
            ],
            "image/png": "[encoded data removed]"
          },
          "metadata": {}
        }
      ]
    },
    {
      "cell_type": "code",
      "source": [
        "AttemptsByPositionA = nbaclean.groupby('Pos')[['3PA', '2PA', 'FTA']].mean()"
      ],
      "metadata": {
        "id": "ALyuiKapZMx3"
      },
      "execution_count": null,
      "outputs": []
    },
    {
      "cell_type": "code",
      "source": [
        "bar_width = 0.2\n",
        "index = np.arange(len(AttemptsByPositionA))\n",
        "\n",
        "plt.figure(figsize=(10, 8))\n",
        "\n",
        "plt.bar(index - bar_width, AttemptsByPositionA['3PA'], bar_width, label='3PA', color='blue')\n",
        "plt.bar(index, AttemptsByPositionA['2PA'], bar_width, label='2PA', color='red')\n",
        "plt.bar(index + bar_width, AttemptsByPositionA['FTA'], bar_width, label='FTA', color='green')\n",
        "\n",
        "plt.xlabel('Position', fontsize=12)\n",
        "plt.ylabel('Average Number of Attempts (per game)', fontsize=12)\n",
        "plt.title = plt.gca().set_title\n",
        "plt.title(\"Average Shot Attempts (per game) by Type & Position (Min. 50 Games Played)\", fontsize=14)\n",
        "plt.xticks(index, AttemptsByPositionA.index)\n",
        "\n",
        "\n",
        "plt.legend()\n",
        "\n",
        "plt.tight_layout()\n",
        "plt.show()"
      ],
      "metadata": {
        "colab": {
          "base_uri": "https://localhost:8080/",
          "height": 807
        },
        "id": "DVqEgzmPY_x7",
        "outputId": "7c50cd0e-6968-4b2d-d840-f5c9fc4d0f71"
      },
      "execution_count": null,
      "outputs": [
        {
          "output_type": "display_data",
          "data": {
            "text/plain": [
              "<Figure size 1000x800 with 1 Axes>"
            ],
            "image/png": "[encoded data removed]"
          },
          "metadata": {}
        }
      ]
    },
    {
      "cell_type": "markdown",
      "source": [
        "These graphs both illustrate the difference in shot diet (in total attempts and per game attempts) between positional groups. We can see that centers, and power forwards take more 2 point attempts. While shooting guards, and small forwards take more 3 point attempts. We can also see that point guards take the most shots with an average number of 2 point attempts similar to centers, and power forwards and an average number of 3 point attempts similar to shooting guards, and small forwards."
      ],
      "metadata": {
        "id": "wKTNvsOfllcv"
      }
    },
    {
      "cell_type": "code",
      "source": [
        "nbacleanFT = nba[(nba['G']>=50) & (nba['MP']>=10) & (nba['FTA']>=3)]"
      ],
      "metadata": {
        "id": "6CKNg6MVDHhD"
      },
      "execution_count": null,
      "outputs": []
    },
    {
      "cell_type": "code",
      "source": [
        "Top5_FT_percent = nbacleanFT[['Player', 'FT%']].sort_values(by='FT%', ascending=False).head(5)\n",
        "print(Top5_FT_percent)"
      ],
      "metadata": {
        "colab": {
          "base_uri": "https://localhost:8080/"
        },
        "id": "bQbShojRCjAJ",
        "outputId": "f8a8e78a-cbf3-430e-a181-a81c2757544a"
      },
      "execution_count": null,
      "outputs": [
        {
          "output_type": "stream",
          "name": "stdout",
          "text": [
            "             Player    FT%\n",
            "10    Stephen Curry  0.923\n",
            "19   Damian Lillard  0.920\n",
            "30      Paul George  0.907\n",
            "16     Kyrie Irving  0.905\n",
            "25  Lauri Markkanen  0.899\n"
          ]
        }
      ]
    },
    {
      "cell_type": "code",
      "source": [
        "Bottom5_FT_percent = nbacleanFT[['Player', 'FT%']].sort_values(by='FT%', ascending=True).head(5)\n",
        "print(Bottom5_FT_percent)"
      ],
      "metadata": {
        "colab": {
          "base_uri": "https://localhost:8080/"
        },
        "id": "VEV4PMoHINVY",
        "outputId": "879323f3-858e-4d75-fd71-cf9cc1c27767"
      },
      "execution_count": null,
      "outputs": [
        {
          "output_type": "stream",
          "name": "stdout",
          "text": [
            "                    Player    FT%\n",
            "119            Rudy Gobert  0.638\n",
            "182           Jusuf Nurki?  0.640\n",
            "2    Giannis Antetokounmpo  0.657\n",
            "122           Aaron Gordon  0.658\n",
            "42          Alperen ?engün  0.693\n"
          ]
        }
      ]
    },
    {
      "cell_type": "code",
      "source": [
        "nbaclean3P = nba[(nba['G']>=50) & (nba['MP']>=10) & (nba['3PA']>=3)]"
      ],
      "metadata": {
        "id": "E6npGtyZHQhS"
      },
      "execution_count": null,
      "outputs": []
    },
    {
      "cell_type": "code",
      "source": [
        "Top5_3P_percent = nbaclean3P[['Player', '3P%']].sort_values(by='3P%', ascending=False).head(5)\n",
        "print(Top5_3P_percent)"
      ],
      "metadata": {
        "colab": {
          "base_uri": "https://localhost:8080/"
        },
        "id": "mB89PgmrF_hK",
        "outputId": "8b0e8c2d-03e0-4fc1-ccfa-7fdf85f77960"
      },
      "execution_count": null,
      "outputs": [
        {
          "output_type": "stream",
          "name": "stdout",
          "text": [
            "            Player    3P%\n",
            "130  Grayson Allen  0.461\n",
            "167    Mike Conley  0.442\n",
            "123  Norman Powell  0.435\n",
            "68    Bradley Beal  0.430\n",
            "144   Jrue Holiday  0.429\n"
          ]
        }
      ]
    },
    {
      "cell_type": "code",
      "source": [
        "Bottom5_3P_percent = nbaclean3P[['Player', '3P%']].sort_values(by='3P%', ascending=True).head(5)\n",
        "print(Bottom5_3P_percent)"
      ],
      "metadata": {
        "colab": {
          "base_uri": "https://localhost:8080/"
        },
        "id": "765GeFD7IbOr",
        "outputId": "03474923-cffa-4310-e1a0-fd51f0facd1e"
      },
      "execution_count": null,
      "outputs": [
        {
          "output_type": "stream",
          "name": "stdout",
          "text": [
            "              Player    3P%\n",
            "373      Kris Murray  0.268\n",
            "58      Franz Wagner  0.281\n",
            "77   Jordan Clarkson  0.294\n",
            "71    Nikola Vu?evi?  0.294\n",
            "200    Dalano Banton  0.296\n"
          ]
        }
      ]
    },
    {
      "cell_type": "code",
      "source": [
        "nbaclean2P = nba[(nba['G']>=50) & (nba['MP']>=10) & (nba['2PA']>=5)]"
      ],
      "metadata": {
        "id": "6s0U0LxBHSAm"
      },
      "execution_count": null,
      "outputs": []
    },
    {
      "cell_type": "code",
      "source": [
        "Top5_2P_percent = nbaclean2P[['Player', '2P%']].sort_values(by='2P%', ascending=False).head(5)\n",
        "print(Top5_2P_percent)"
      ],
      "metadata": {
        "colab": {
          "base_uri": "https://localhost:8080/"
        },
        "id": "TWBOeTxtG6nV",
        "outputId": "5919071b-c847-45c7-ad59-1282f479309f"
      },
      "execution_count": null,
      "outputs": [
        {
          "output_type": "stream",
          "name": "stdout",
          "text": [
            "               Player    2P%\n",
            "245  Dereck Lively II  0.752\n",
            "174    Daniel Gafford  0.725\n",
            "227     Nick Richards  0.693\n",
            "265    Walker Kessler  0.680\n",
            "210    Onyeka Okongwu  0.676\n"
          ]
        }
      ]
    },
    {
      "cell_type": "code",
      "source": [
        "Bottom5_2P_percent = nbaclean2P[['Player', '2P%']].sort_values(by='2P%', ascending=True).head(5)\n",
        "print(Bottom5_2P_percent)"
      ],
      "metadata": {
        "colab": {
          "base_uri": "https://localhost:8080/"
        },
        "id": "zhJjQ6VGIqs7",
        "outputId": "ae5ec9cf-0cb6-49ca-e075-a08b84889ffc"
      },
      "execution_count": null,
      "outputs": [
        {
          "output_type": "stream",
          "name": "stdout",
          "text": [
            "                  Player    2P%\n",
            "120      Scoot Henderson  0.416\n",
            "213  Talen Horton-Tucker  0.438\n",
            "74         Fred VanVleet  0.454\n",
            "135       Keyonte George  0.459\n",
            "128       Gary Trent Jr.  0.464\n"
          ]
        }
      ]
    },
    {
      "cell_type": "markdown",
      "source": [
        "These statistics give me insight into who leads and trails the NBA in free throw, 3 point, and 2 point shot efficiency. We can see that\n",
        "point guards generally lead in free throw percentage, 3 point percentage, and trail in 2 point percentage. While centers generally lead in 2 point percentage and trail in free throw percentage."
      ],
      "metadata": {
        "id": "qxtkhyvXBH2k"
      }
    },
    {
      "cell_type": "code",
      "source": [
        "plt.figure(figsize=(10,8))\n",
        "plt.scatter(nbaod['Ortg'],nbaod['DRtg'], color='red')\n",
        "plt.gca().invert_yaxis()\n",
        "plt.yticks([125, 120, 115, 110, 105, 100])\n",
        "plt.grid(True)\n",
        "plt.title = plt.gca().set_title\n",
        "plt.title(\"Offensive Rating & Defensive Rating (Min. 30 MPG)\")\n",
        "plt.xlabel('Offensive Rating')\n",
        "plt.ylabel('Defensive Rating')\n",
        "plt.show()"
      ],
      "metadata": {
        "colab": {
          "base_uri": "https://localhost:8080/",
          "height": 718
        },
        "id": "qsnuJVb6csJg",
        "outputId": "6783e31f-0c03-4afd-c1bc-3fbb080eb07a"
      },
      "execution_count": null,
      "outputs": [
        {
          "output_type": "display_data",
          "data": {
            "text/plain": [
              "<Figure size 1000x800 with 1 Axes>"
            ],
            "image/png": "[encoded data removed]"
          },
          "metadata": {}
        }
      ]
    },
    {
      "cell_type": "markdown",
      "source": [
        "This graph illustrates the the offensive and defensive ratings by players with a minimum of 30 minutes per game and 50 games played. This illustrates a player's offensive and defensive impact on games. The player with the most impact of the game both offensively and defensively with an offensive rating of 131 and a defensive rating of 104 is Rudy Gobert a center."
      ],
      "metadata": {
        "id": "dOwHjiQCA5NW"
      }
    },
    {
      "cell_type": "markdown",
      "source": [
        "The findings in this analysis reveal the differences in shot frequency (shot diet) between different positions. We can conclude that the PG, SG, and SF positions shoot more 3 point shots than the PF and C positions who, while also generally taking less shots overall, take more 2 point on average when they do score. The analysis also reveals that the most impactful player on offense and defense is a center (Rudy Gobert). This gives us some insight into the importance of the center position despite being the smallest position group and taking the least number of field goals on average. In the future access to a more detailed and robust dataset would offer the possibility to explore how both shot frequency and efficiency change each quarter, the impacts of age on shot diet and efficiency, the change in the NBA's overall shot diet over the last decade, the shot diet and efficiency of most successful teams, and the changes in shot diet and strategy in the playoffs."
      ],
      "metadata": {
        "id": "Jpt8QVekZUf6"
      }
    }
  ]
}